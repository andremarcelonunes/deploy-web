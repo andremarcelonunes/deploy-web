{
  "nbformat": 4,
  "nbformat_minor": 0,
  "metadata": {
    "colab": {
      "name": "Fase2R.ipynb",
      "provenance": [],
      "include_colab_link": true
    },
    "kernelspec": {
      "name": "ir",
      "display_name": "R"
    }
  },
  "cells": [
    {
      "cell_type": "markdown",
      "metadata": {
        "id": "view-in-github",
        "colab_type": "text"
      },
      "source": [
        "<a href=\"https://colab.research.google.com/github/andremcn/deploy-web/blob/master/Fase2R.ipynb\" target=\"_parent\"><img src=\"https://colab.research.google.com/assets/colab-badge.svg\" alt=\"Open In Colab\"/></a>"
      ]
    },
    {
      "cell_type": "markdown",
      "metadata": {
        "id": "Z2Kl9pfj0JKM",
        "colab_type": "text"
      },
      "source": [
        "# Seja ensinável e execute as tarefas compartilhadas. Por fins didáticos e para melhor separação mental das sintaxes Python/R, realizaremos todos os exercícios de Python em R.\n",
        "![alt text](https://media.tenor.com/images/51e469036910eb2ece677863200af5a8/tenor.gif)"
      ]
    },
    {
      "cell_type": "markdown",
      "metadata": {
        "id": "j9ZuOU7Kyh9O",
        "colab_type": "text"
      },
      "source": [
        "Crie um algoritmo em R que peça uma nota, entre 0 e 100. Mostre uma mensagem caso o valor seja inválido e continue pedindo até que o usuário informe um valor válido."
      ]
    },
    {
      "cell_type": "code",
      "metadata": {
        "id": "tlFupLd-ydTB",
        "colab_type": "code",
        "colab": {
          "base_uri": "https://localhost:8080/",
          "height": 85
        },
        "outputId": "098c3a7d-87cb-44fd-baef-fef12efe2478"
      },
      "source": [
        "\n",
        "while (TRUE) {a = as.integer(readline(\"Insira uma nota entre 0 e 100 \"))\n",
        "\n",
        "if  (a>=0 & a<=100) {\n",
        "    print (\"Obrigado\")\n",
        "    break\n",
        "    } else {\n",
        "      print (\"Entrada invalida\")\n",
        "      next\n",
        "    }\n",
        "  \n",
        "}\n",
        "\n",
        "\n",
        "\n",
        "\n",
        "\n",
        "\n"
      ],
      "execution_count": 22,
      "outputs": [
        {
          "output_type": "stream",
          "text": [
            "Insira uma nota entre 0 e 100 -9\n",
            "Insira uma nota entre 0 e 100 9\n",
            "[1] \"Entrada invalida\"\n",
            "[1] \"Obrigado\"\n"
          ],
          "name": "stdout"
        }
      ]
    },
    {
      "cell_type": "markdown",
      "metadata": {
        "id": "yhw2owA-zbrn",
        "colab_type": "text"
      },
      "source": [
        "Crie um algoritmo em R que leia um nome de usuário e a sua senha e não aceite a senha igual ao nome do usuário, mostrando uma mensagem de erro e voltando a pedir as informações.<br>"
      ]
    },
    {
      "cell_type": "code",
      "metadata": {
        "id": "RJJtXkvV0qzj",
        "colab_type": "code",
        "colab": {
          "base_uri": "https://localhost:8080/",
          "height": 170
        },
        "outputId": "758e8956-8e0c-481e-8746-502d10616811"
      },
      "source": [
        "while (TRUE) \n",
        "{user = readline(\"Insira user \")\n",
        "senha = readline(\"Insira senha\")\n",
        "\n",
        "if  (user == senha) {\n",
        "    print (\"Invalida\")\n",
        "    next\n",
        "    } else {\n",
        "      print (\"Obrigado\")\n",
        "      break\n",
        "   \n",
        "    }\n",
        "  \n",
        "}\n",
        "\n"
      ],
      "execution_count": 25,
      "outputs": [
        {
          "output_type": "stream",
          "text": [
            "Insira user juju\n",
            "Insira senhajuju\n",
            "Insira user juju\n",
            "Insira senhajuju\n",
            "Insira user dede\n",
            "Insira senhajuju\n",
            "[1] \"Invalida\"\n",
            "[1] \"Invalida\"\n",
            "[1] \"Obrigado\"\n"
          ],
          "name": "stdout"
        }
      ]
    },
    {
      "cell_type": "markdown",
      "metadata": {
        "id": "35RwPIIF0w3i",
        "colab_type": "text"
      },
      "source": [
        "Crie um algoritmo em R que leia e valide as seguintes informações:\n",
        "* Nome: maior que 3 caracteres;\n",
        "* Idade: entre 0 e 150;\n",
        "* Salário: maior que zero;\n",
        "* Sexo: 'f' ou 'm';\n",
        "* Estado Civil: 's', 'c', 'v', 'd';"
      ]
    },
    {
      "cell_type": "code",
      "metadata": {
        "id": "cYJEYBAzCgIi",
        "colab_type": "code",
        "colab": {
          "base_uri": "https://localhost:8080/",
          "height": 68
        },
        "outputId": "f3538b2a-08ff-43f2-8916-cf5629d7fc7b"
      },
      "source": [
        "install.packages(\"stringr\")"
      ],
      "execution_count": 33,
      "outputs": [
        {
          "output_type": "stream",
          "text": [
            "Installing package into ‘/usr/local/lib/R/site-library’\n",
            "(as ‘lib’ is unspecified)\n",
            "\n"
          ],
          "name": "stderr"
        }
      ]
    },
    {
      "cell_type": "code",
      "metadata": {
        "id": "NEFu-8L808HB",
        "colab_type": "code",
        "colab": {
          "base_uri": "https://localhost:8080/",
          "height": 102
        },
        "outputId": "538c7c58-1fe5-4f90-97ca-20a85ba7f4c5"
      },
      "source": [
        "library(stringr)\n",
        "\n",
        "\n",
        "while (TRUE){\n",
        "nome = readline(\"Insira o nome > 3 caracteres \")\n",
        "if  (str_length(nome) <= 3) {\n",
        "    print (\"nome Invalido\")\n",
        "    next\n",
        "    } else {break}\n",
        "}\n",
        "\n",
        "while (TRUE){\n",
        "idade = as.integer(readline(\"Insira idade [0-150]\"))\n",
        "if  (idade <= 0 | idade >= 150) {\n",
        "    print (\"idade Invalida\")\n",
        "    next\n",
        "    }else {break}\n",
        "} \n",
        "\n",
        "\n",
        "while (TRUE){\n",
        "salario = as.numeric(readline(\"Insira salario >0\"))\n",
        "if  (salario <= 0) {\n",
        "    print (\"salario Invalido\")\n",
        "    next\n",
        "    }else {break}\n",
        "} \n",
        "\n",
        "while (TRUE){\n",
        "sexo = as.character(readline(\"Insira sexo (f,m)\"))\n",
        "if  (sexo %in% c(\"f\", \"m\")) {\n",
        "    break\n",
        "   \n",
        "    }else {print (\"sexo Invalido\")\n",
        "    next}\n",
        "} \n",
        "\n",
        "while (TRUE){\n",
        "estadocivil = as.character(readline(\"Insira estado civil (s,c,v,d)\"))\n",
        "if  (estadocivil %in% c(\"s\", \"c\", \"v\", \"d\")) {\n",
        "     break\n",
        "    }else { \n",
        "    print (\"sexo Invalido\")\n",
        "    next}\n",
        "} \n",
        "\n",
        "  \n",
        "\n",
        "\n"
      ],
      "execution_count": 2,
      "outputs": [
        {
          "output_type": "stream",
          "text": [
            "Insira o nome > 3 caracteres juju\n",
            "Insira idade [0-150]30\n",
            "Insira salario >0300.00\n",
            "Insira sexo (f,m)f\n",
            "Insira estado civil (s,c,v,d)s\n"
          ],
          "name": "stdout"
        }
      ]
    },
    {
      "cell_type": "markdown",
      "metadata": {
        "id": "_OGQmoYA08bI",
        "colab_type": "text"
      },
      "source": [
        "Supondo que a população de um país A seja da ordem de 80000 habitantes com uma taxa anual de crescimento de 3% e que a população de B seja 200000 habitantes com uma taxa de crescimento de 1.5%.<br><br> Crie um algoritmo em R que calcule e escreva o número de anos necessários para que a população do país A ultrapasse ou iguale a população do país B, mantidas as taxas de crescimento."
      ]
    },
    {
      "cell_type": "code",
      "metadata": {
        "id": "xxgmQ5j21Abx",
        "colab_type": "code",
        "colab": {
          "base_uri": "https://localhost:8080/",
          "height": 34
        },
        "outputId": "6ba6b322-e3a7-451c-dabf-7b22ca6341fc"
      },
      "source": [
        "PopA <- 80000\n",
        "PopB <- 200000\n",
        "cont <- 0\n",
        "while (PopA <= PopB){\n",
        "  PopA <- PopA * (1 + 0.03)\n",
        "  PopB <- PopB * (1 + 0.015)\n",
        "  cont <- cont + 1\n",
        "}\n",
        "\n",
        "print (paste(\"Total de anos e\", cont))\n"
      ],
      "execution_count": 7,
      "outputs": [
        {
          "output_type": "stream",
          "text": [
            "[1] \"Total de anos e 63\"\n"
          ],
          "name": "stdout"
        }
      ]
    },
    {
      "cell_type": "markdown",
      "metadata": {
        "id": "kP9TOwKo1AnS",
        "colab_type": "text"
      },
      "source": [
        "Desenvolva um gerador de tabuada, capaz de gerar a tabuada de qualquer número inteiro entre 1 a 10. O usuário deve informar de qual numero ele deseja ver a tabuada. A saída deve ser conforme o exemplo abaixo:\n",
        "Tabuada de 5:<br>\n",
        "5 X 1 = 5<br>\n",
        "5 X 2 = 10<br>\n",
        "...<br>\n",
        "5 X 10 = 50<br>"
      ]
    },
    {
      "cell_type": "code",
      "metadata": {
        "id": "Tj5xsjC-1D5I",
        "colab_type": "code",
        "colab": {
          "base_uri": "https://localhost:8080/",
          "height": 204
        },
        "outputId": "07a7e2fd-6b2d-4903-ceb8-dd6daa69167e"
      },
      "source": [
        "a <- as.integer(readline(\"Insira um numero\"))\n",
        "\n",
        "for (x in 1:10) {\n",
        "  print(paste (a, \"x\", x, \" = \", a*x ))\n",
        "}"
      ],
      "execution_count": 13,
      "outputs": [
        {
          "output_type": "stream",
          "text": [
            "Insira um numero5\n",
            "[1] \"5 x 1  =  5\"\n",
            "[1] \"5 x 2  =  10\"\n",
            "[1] \"5 x 3  =  15\"\n",
            "[1] \"5 x 4  =  20\"\n",
            "[1] \"5 x 5  =  25\"\n",
            "[1] \"5 x 6  =  30\"\n",
            "[1] \"5 x 7  =  35\"\n",
            "[1] \"5 x 8  =  40\"\n",
            "[1] \"5 x 9  =  45\"\n",
            "[1] \"5 x 10  =  50\"\n"
          ],
          "name": "stdout"
        }
      ]
    },
    {
      "cell_type": "markdown",
      "metadata": {
        "id": "6vgD9pl81EGd",
        "colab_type": "text"
      },
      "source": [
        "Crie um algoritmo em R que leia três números e mostre o maior e o menor deles."
      ]
    },
    {
      "cell_type": "code",
      "metadata": {
        "id": "3h1VOEuR1KGz",
        "colab_type": "code",
        "colab": {
          "base_uri": "https://localhost:8080/",
          "height": 68
        },
        "outputId": "2a67a9ec-c2bf-42cb-8f54-8ab2416328d1"
      },
      "source": [
        "a <- as.integer(strsplit(readline(\"Digite 3 numeros \"), \",\")[[1]])\n",
        "max(a)\n",
        "min(a)"
      ],
      "execution_count": 16,
      "outputs": [
        {
          "output_type": "stream",
          "text": [
            "Digite 3 numeros 40,5,3,1\n"
          ],
          "name": "stdout"
        },
        {
          "output_type": "display_data",
          "data": {
            "text/plain": [
              "[1] 40"
            ],
            "text/latex": "40",
            "text/markdown": "40",
            "text/html": [
              "40"
            ]
          },
          "metadata": {
            "tags": []
          }
        },
        {
          "output_type": "display_data",
          "data": {
            "text/plain": [
              "[1] 1"
            ],
            "text/latex": "1",
            "text/markdown": "1",
            "text/html": [
              "1"
            ]
          },
          "metadata": {
            "tags": []
          }
        }
      ]
    },
    {
      "cell_type": "markdown",
      "metadata": {
        "id": "QXhvPnMQ1Kd6",
        "colab_type": "text"
      },
      "source": [
        "Crie um algoritmo em R que peça 2 números, base e expoente, calcule e mostre o primeiro número elevado ao segundo número. Não utilize a função de potência da linguagem."
      ]
    },
    {
      "cell_type": "code",
      "metadata": {
        "id": "ywZkuhmt1N7l",
        "colab_type": "code",
        "colab": {
          "base_uri": "https://localhost:8080/",
          "height": 102
        },
        "outputId": "d7dc7517-653c-46ea-9760-212e6619ffbe"
      },
      "source": [
        "a <- as.integer(readline(\"Digite base\"))\n",
        "base <- a\n",
        "b <- as.integer(readline(\"Digite expoente\"))\n",
        "if (b == 1 ) {\n",
        "  a\n",
        "}else{\n",
        "for (x in 1:b){\n",
        "  print (x)\n",
        "   a <- a * base\n",
        "}\n",
        "print (a)\n",
        "}\n"
      ],
      "execution_count": 45,
      "outputs": [
        {
          "output_type": "stream",
          "text": [
            "Digite base2\n",
            "Digite expoente2\n",
            "[1] 1\n",
            "[1] 2\n",
            "[1] 8\n"
          ],
          "name": "stdout"
        }
      ]
    },
    {
      "cell_type": "markdown",
      "metadata": {
        "id": "F-rpjggB1T5G",
        "colab_type": "text"
      },
      "source": [
        "Crie um algoritmo em R que peça 10 números inteiros, calcule e mostre a quantidade de números pares e a quantidade de números impares."
      ]
    },
    {
      "cell_type": "code",
      "metadata": {
        "id": "nvMchfOZ2_vC",
        "colab_type": "code",
        "colab": {
          "base_uri": "https://localhost:8080/",
          "height": 68
        },
        "outputId": "2569ef41-dbb0-44d0-c90a-cbcef5a6fdef"
      },
      "source": [
        "a <- as.integer(strsplit(readline(\"Digite 10 numeros inteiros\"), \",\")[[1]])\n",
        "cont_impar <- 0\n",
        "cont_par <- 0\n",
        "for (x in a){\n",
        "resto <- x%%2\n",
        "ifelse(resto>0, cont_impar <- cont_impar +1, cont_par <- cont_par +1)\n",
        "}\n",
        "print (paste(\"sao \", cont_par, \" pares\"))\n",
        "print (paste(\"sao \", cont_impar, \" impares\"))\n",
        "\n"
      ],
      "execution_count": 48,
      "outputs": [
        {
          "output_type": "stream",
          "text": [
            "Digite 10 numeros inteiros2,2,2,2,4,0,10,1,1\n",
            "[1] \"sao  7  pares\"\n",
            "[1] \"sao  2  impares\"\n"
          ],
          "name": "stdout"
        }
      ]
    },
    {
      "cell_type": "markdown",
      "metadata": {
        "id": "C-H4OWh03DFn",
        "colab_type": "text"
      },
      "source": [
        "Um funcionário de uma empresa recebe aumento salarial anualmente: Sabe-se que: Esse funcionário foi contratado em 1995, com salário inicial de R$ 1.000,00; Em 1996 recebeu aumento de 1,5% sobre seu salário inicial; A partir de 1997 (inclusive), os aumentos salariais sempre correspondem ao dobro do percentual do ano anterior. Crie um algoritmo em R que determine o salário atual desse funcionário. Após concluir isto, altere o programa permitindo que o usuário digite o salário inicial do funcionário"
      ]
    },
    {
      "cell_type": "code",
      "metadata": {
        "id": "vs5qFAKx3Eyi",
        "colab_type": "code",
        "colab": {
          "base_uri": "https://localhost:8080/",
          "height": 51
        },
        "outputId": "e2c40758-9505-4a78-c87b-656b85b8b696"
      },
      "source": [
        "a <- as.numeric(readline(\"Digite o salario\"))\n",
        "salario_inicial <- a\n",
        "salario <- salario_inicial *1.0015\n",
        "\n",
        "for (x in 1997:2020) {\n",
        "\n",
        "   salario = salario  * (1 + (0.015 *2)) \n",
        "\n",
        "}\n",
        "print (salario)"
      ],
      "execution_count": 51,
      "outputs": [
        {
          "output_type": "stream",
          "text": [
            "Digite o salario1000\n",
            "[1] 2035.843\n"
          ],
          "name": "stdout"
        }
      ]
    },
    {
      "cell_type": "markdown",
      "metadata": {
        "id": "PGccudSo3E54",
        "colab_type": "text"
      },
      "source": [
        "Crie um algoritmo em R com uma função que necessite de um argumento. A função retorna o valor de caractere ‘P’, se seu argumento for positivo, e ‘N’, se seu argumento for zero ou negativo."
      ]
    },
    {
      "cell_type": "code",
      "metadata": {
        "id": "_zfLyopV3IqV",
        "colab_type": "code",
        "colab": {
          "base_uri": "https://localhost:8080/",
          "height": 34
        },
        "outputId": "669db323-f3ca-4e57-a0b9-31f772c8da2c"
      },
      "source": [
        "checaarg <- function(num) {\n",
        "  ifelse(num>0, return(\"P\"), return(\"N\"))\n",
        "  \n",
        "}\n",
        "checaarg(-1)"
      ],
      "execution_count": 53,
      "outputs": [
        {
          "output_type": "display_data",
          "data": {
            "text/plain": [
              "[1] \"N\""
            ],
            "text/latex": "'N'",
            "text/markdown": "'N'",
            "text/html": [
              "'N'"
            ]
          },
          "metadata": {
            "tags": []
          }
        }
      ]
    },
    {
      "cell_type": "markdown",
      "metadata": {
        "id": "bu3Zyati3Iwc",
        "colab_type": "text"
      },
      "source": [
        "Construa uma função que receba uma data no formato DD/MM/AAAA e devolva uma string no formato D de mesPorExtenso de AAAA. Opcionalmente, valide a data e retorne NULL caso a data seja inválida."
      ]
    },
    {
      "cell_type": "code",
      "metadata": {
        "id": "Peo4D5Sz3PDC",
        "colab_type": "code",
        "colab": {
          "base_uri": "https://localhost:8080/",
          "height": 34
        },
        "outputId": "4a697cd2-378a-4f1b-f4a5-15b5b3c8f587"
      },
      "source": [
        "Formatdata <- function(data_str) {\n",
        "  \n",
        "  meses <- c(\"jan\",\"fev\",\"mar\",\"abr\",\"maio\",\"jun\",\"jul\",\"ago\",\"set\",\"out\",\"nov\",\"dez\")\n",
        "\n",
        "  \n",
        "  a <- as.integer(strsplit(data_str, \"/\")[[1]])\n",
        "\n",
        "  mes <- a[2]\n",
        "\n",
        "  print (paste(a[1], \"de \", meses[mes], \" de\", a[3]))\n",
        "}\n",
        "Formatdata(\"23/1/1971\")"
      ],
      "execution_count": 63,
      "outputs": [
        {
          "output_type": "stream",
          "text": [
            "[1] \"23 de  jan  de 1971\"\n"
          ],
          "name": "stdout"
        }
      ]
    }
  ]
}