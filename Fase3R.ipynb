{
  "nbformat": 4,
  "nbformat_minor": 0,
  "metadata": {
    "colab": {
      "name": "Fase3R.ipynb",
      "provenance": [],
      "include_colab_link": true
    },
    "kernelspec": {
      "name": "ir",
      "display_name": "R"
    }
  },
  "cells": [
    {
      "cell_type": "markdown",
      "metadata": {
        "id": "view-in-github",
        "colab_type": "text"
      },
      "source": [
        "<a href=\"https://colab.research.google.com/github/andremcn/deploy-web/blob/master/Fase3R.ipynb\" target=\"_parent\"><img src=\"https://colab.research.google.com/assets/colab-badge.svg\" alt=\"Open In Colab\"/></a>"
      ]
    },
    {
      "cell_type": "markdown",
      "metadata": {
        "id": "Z2Kl9pfj0JKM",
        "colab_type": "text"
      },
      "source": [
        "# Seja ensinável e execute as tarefas compartilhadas. Por fins didáticos e para melhor separação mental das sintaxes Python/R, realizaremos todos os exercícios de Python em R.\n",
        "![alt text](https://media0.giphy.com/media/pheOCmHVZehjy/source.gif)"
      ]
    },
    {
      "cell_type": "markdown",
      "metadata": {
        "id": "Y7enDOmAEdmo",
        "colab_type": "text"
      },
      "source": [
        "## Utilize apenas funções e pacotes R para os desafios abaixo\n",
        "#### Skills principais trabalhadas: tolerância a frustração, pesquisa, auto-didatismo, compreensão de texto, lógica de programação e leitura de documentação(pacotes)."
      ]
    },
    {
      "cell_type": "markdown",
      "metadata": {
        "id": "j9ZuOU7Kyh9O",
        "colab_type": "text"
      },
      "source": [
        "Faça a leitura de um dataset(conjunto de dados) do Rbase e mostre as primeiras linhas deste dataset"
      ]
    },
    {
      "cell_type": "code",
      "metadata": {
        "id": "tlFupLd-ydTB",
        "colab_type": "code",
        "outputId": "b68731a0-39d5-4419-920a-9880ea62825f",
        "colab": {
          "base_uri": "https://localhost:8080/",
          "height": 221
        }
      },
      "source": [
        "head(BOD)\n",
        "\n"
      ],
      "execution_count": 0,
      "outputs": [
        {
          "output_type": "display_data",
          "data": {
            "text/plain": [
              "  Time demand\n",
              "1 1     8.3  \n",
              "2 2    10.3  \n",
              "3 3    19.0  \n",
              "4 4    16.0  \n",
              "5 5    15.6  \n",
              "6 7    19.8  "
            ],
            "text/latex": "A data.frame: 6 × 2\n\\begin{tabular}{r|ll}\n  & Time & demand\\\\\n  & <dbl> & <dbl>\\\\\n\\hline\n\t1 & 1 &  8.3\\\\\n\t2 & 2 & 10.3\\\\\n\t3 & 3 & 19.0\\\\\n\t4 & 4 & 16.0\\\\\n\t5 & 5 & 15.6\\\\\n\t6 & 7 & 19.8\\\\\n\\end{tabular}\n",
            "text/markdown": "\nA data.frame: 6 × 2\n\n| <!--/--> | Time &lt;dbl&gt; | demand &lt;dbl&gt; |\n|---|---|---|\n| 1 | 1 |  8.3 |\n| 2 | 2 | 10.3 |\n| 3 | 3 | 19.0 |\n| 4 | 4 | 16.0 |\n| 5 | 5 | 15.6 |\n| 6 | 7 | 19.8 |\n\n",
            "text/html": [
              "<table>\n",
              "<caption>A data.frame: 6 × 2</caption>\n",
              "<thead>\n",
              "\t<tr><th></th><th scope=col>Time</th><th scope=col>demand</th></tr>\n",
              "\t<tr><th></th><th scope=col>&lt;dbl&gt;</th><th scope=col>&lt;dbl&gt;</th></tr>\n",
              "</thead>\n",
              "<tbody>\n",
              "\t<tr><th scope=row>1</th><td>1</td><td> 8.3</td></tr>\n",
              "\t<tr><th scope=row>2</th><td>2</td><td>10.3</td></tr>\n",
              "\t<tr><th scope=row>3</th><td>3</td><td>19.0</td></tr>\n",
              "\t<tr><th scope=row>4</th><td>4</td><td>16.0</td></tr>\n",
              "\t<tr><th scope=row>5</th><td>5</td><td>15.6</td></tr>\n",
              "\t<tr><th scope=row>6</th><td>7</td><td>19.8</td></tr>\n",
              "</tbody>\n",
              "</table>\n"
            ]
          },
          "metadata": {
            "tags": []
          }
        }
      ]
    },
    {
      "cell_type": "markdown",
      "metadata": {
        "id": "3Yr1zAKdFRy-",
        "colab_type": "text"
      },
      "source": [
        "Faça a leitura de um dataset(conjunto de dados) do Rbase e mostre as últimas linhas deste dataset"
      ]
    },
    {
      "cell_type": "code",
      "metadata": {
        "id": "hkJTCQmKFVfE",
        "colab_type": "code",
        "outputId": "83656f0c-a083-4351-b89d-06696225acf3",
        "colab": {
          "base_uri": "https://localhost:8080/",
          "height": 221
        }
      },
      "source": [
        "tail(BOD)"
      ],
      "execution_count": 0,
      "outputs": [
        {
          "output_type": "display_data",
          "data": {
            "text/plain": [
              "  Time demand\n",
              "1 1     8.3  \n",
              "2 2    10.3  \n",
              "3 3    19.0  \n",
              "4 4    16.0  \n",
              "5 5    15.6  \n",
              "6 7    19.8  "
            ],
            "text/latex": "A data.frame: 6 × 2\n\\begin{tabular}{r|ll}\n  & Time & demand\\\\\n  & <dbl> & <dbl>\\\\\n\\hline\n\t1 & 1 &  8.3\\\\\n\t2 & 2 & 10.3\\\\\n\t3 & 3 & 19.0\\\\\n\t4 & 4 & 16.0\\\\\n\t5 & 5 & 15.6\\\\\n\t6 & 7 & 19.8\\\\\n\\end{tabular}\n",
            "text/markdown": "\nA data.frame: 6 × 2\n\n| <!--/--> | Time &lt;dbl&gt; | demand &lt;dbl&gt; |\n|---|---|---|\n| 1 | 1 |  8.3 |\n| 2 | 2 | 10.3 |\n| 3 | 3 | 19.0 |\n| 4 | 4 | 16.0 |\n| 5 | 5 | 15.6 |\n| 6 | 7 | 19.8 |\n\n",
            "text/html": [
              "<table>\n",
              "<caption>A data.frame: 6 × 2</caption>\n",
              "<thead>\n",
              "\t<tr><th></th><th scope=col>Time</th><th scope=col>demand</th></tr>\n",
              "\t<tr><th></th><th scope=col>&lt;dbl&gt;</th><th scope=col>&lt;dbl&gt;</th></tr>\n",
              "</thead>\n",
              "<tbody>\n",
              "\t<tr><th scope=row>1</th><td>1</td><td> 8.3</td></tr>\n",
              "\t<tr><th scope=row>2</th><td>2</td><td>10.3</td></tr>\n",
              "\t<tr><th scope=row>3</th><td>3</td><td>19.0</td></tr>\n",
              "\t<tr><th scope=row>4</th><td>4</td><td>16.0</td></tr>\n",
              "\t<tr><th scope=row>5</th><td>5</td><td>15.6</td></tr>\n",
              "\t<tr><th scope=row>6</th><td>7</td><td>19.8</td></tr>\n",
              "</tbody>\n",
              "</table>\n"
            ]
          },
          "metadata": {
            "tags": []
          }
        }
      ]
    },
    {
      "cell_type": "markdown",
      "metadata": {
        "id": "3MY8QLnuFVoX",
        "colab_type": "text"
      },
      "source": [
        "Utilizando uma função Rbase, abra um dataset contido em sua própria máquina."
      ]
    },
    {
      "cell_type": "code",
      "metadata": {
        "id": "30lZbqcfFgiH",
        "colab_type": "code",
        "colab": {}
      },
      "source": [
        "## VER COMO FAZ NO COLAB"
      ],
      "execution_count": 0,
      "outputs": []
    },
    {
      "cell_type": "markdown",
      "metadata": {
        "id": "6xyDmufwFgtS",
        "colab_type": "text"
      },
      "source": [
        "Crie uma função que recebe 2 parâmetros e retorna o maior valor destes."
      ]
    },
    {
      "cell_type": "code",
      "metadata": {
        "id": "X6k1tzNWFxMM",
        "colab_type": "code",
        "colab": {
          "base_uri": "https://localhost:8080/",
          "height": 51
        },
        "outputId": "cf9d1aef-7291-45e5-b4ef-9e8b448675c0"
      },
      "source": [
        "maxnum <- function(num1,num2) {\n",
        "  ifelse(num1>num2, print(num1),print(num2))\n",
        "  \n",
        "}\n",
        "maxnum(3,3)"
      ],
      "execution_count": 26,
      "outputs": [
        {
          "output_type": "stream",
          "text": [
            "[1] 3\n"
          ],
          "name": "stdout"
        },
        {
          "output_type": "display_data",
          "data": {
            "text/plain": [
              "[1] 3"
            ],
            "text/latex": "3",
            "text/markdown": "3",
            "text/html": [
              "3"
            ]
          },
          "metadata": {
            "tags": []
          }
        }
      ]
    },
    {
      "cell_type": "markdown",
      "metadata": {
        "id": "NWlYA5_sFx5w",
        "colab_type": "text"
      },
      "source": [
        "Crie ou abra um dataset e na sequência, faça plotagem das features em um gráfico de barras."
      ]
    },
    {
      "cell_type": "code",
      "metadata": {
        "id": "HMr2U0I8F-zM",
        "colab_type": "code",
        "colab": {}
      },
      "source": [
        "library(tidyverse)"
      ],
      "execution_count": 0,
      "outputs": []
    },
    {
      "cell_type": "code",
      "metadata": {
        "id": "qj_x7eY_9E9p",
        "colab_type": "code",
        "colab": {}
      },
      "source": [
        "mpg"
      ],
      "execution_count": 0,
      "outputs": []
    },
    {
      "cell_type": "code",
      "metadata": {
        "id": "jupNpGP--W-B",
        "colab_type": "code",
        "colab": {
          "base_uri": "https://localhost:8080/",
          "height": 437
        },
        "outputId": "bff49133-ef25-47e8-8c02-ce1d28c90074"
      },
      "source": [
        "# GRÁFICO DE BARRAS\n",
        "ggplot(diamonds, aes(x = cut)) +\n",
        "  geom_bar()"
      ],
      "execution_count": 34,
      "outputs": [
        {
          "output_type": "display_data",
          "data": {
            "image/png": "[encoded data removed]",
            "text/plain": [
              "plot without title"
            ]
          },
          "metadata": {
            "tags": [],
            "image/png": {
              "width": 420,
              "height": 420
            },
            "text/plain": {
              "width": 420,
              "height": 420
            }
          }
        }
      ]
    },
    {
      "cell_type": "markdown",
      "metadata": {
        "id": "3ua79PyZGTOB",
        "colab_type": "text"
      },
      "source": [
        "Com o dataset abaixo carregado, realize os exercícios seguintes:"
      ]
    },
    {
      "cell_type": "code",
      "metadata": {
        "id": "s3xbysLTGS7S",
        "colab_type": "code",
        "colab": {}
      },
      "source": [
        "enderecos <- c(\"Rua Marcelino 851, São Paulo\", \"Avenida Voluntários da Pátria 367, Curitiba\", \"Rua do corcovado 198, Rio de janeiro\")\n",
        "produtos <- c(\"TV\", \"notebooks\", \"GPU\", \"mouses\", \"Teclado\")\n",
        "sentencas <- stringr::sentences[1:10]\n",
        "campos <- c(\"order_number\", \"order_date\", \"customer_email\", \"product_title\", \"amount\")\n",
        "skills <- c(\"João Silva (jr)\", \"Rita Cadillac (senior)\", \"Chris Brown (senior)\", \"Sara Sarali (pleno)\")"
      ],
      "execution_count": 0,
      "outputs": []
    },
    {
      "cell_type": "markdown",
      "metadata": {
        "id": "oIARcRAyHn2N",
        "colab_type": "text"
      },
      "source": [
        "Normalize o vetor de endereços substituindo letras maiúsculas por minúsculas."
      ]
    },
    {
      "cell_type": "code",
      "metadata": {
        "id": "TS6qkcK-HqRx",
        "colab_type": "code",
        "colab": {}
      },
      "source": [
        "library(dplyr)\n",
        "library(stringr)\n",
        "library(readr)"
      ],
      "execution_count": 0,
      "outputs": []
    },
    {
      "cell_type": "code",
      "metadata": {
        "id": "GE-KtIH7-yZG",
        "colab_type": "code",
        "colab": {
          "base_uri": "https://localhost:8080/",
          "height": 119
        },
        "outputId": "59842cfe-4044-4e8a-9e28-19e897518390"
      },
      "source": [
        "print (enderecos)\n",
        "enderecos <- enderecos %>%\n",
        "  str_to_upper() \n",
        "\n",
        "print (enderecos)\n"
      ],
      "execution_count": 50,
      "outputs": [
        {
          "output_type": "stream",
          "text": [
            "[1] \"Rua Marcelino 851, São Paulo\"               \n",
            "[2] \"Avenida Voluntários da Pátria 367, Curitiba\"\n",
            "[3] \"Rua do corcovado 198, Rio de janeiro\"       \n",
            "[1] \"RUA MARCELINO 851, SÃO PAULO\"               \n",
            "[2] \"AVENIDA VOLUNTÁRIOS DA PÁTRIA 367, CURITIBA\"\n",
            "[3] \"RUA DO CORCOVADO 198, RIO DE JANEIRO\"       \n"
          ],
          "name": "stdout"
        }
      ]
    },
    {
      "cell_type": "markdown",
      "metadata": {
        "id": "EHmTOtNaHqfc",
        "colab_type": "text"
      },
      "source": [
        "Puxe apenas a parte numérica do vetor de endereços."
      ]
    },
    {
      "cell_type": "code",
      "metadata": {
        "id": "1qQJ4NmMHtgM",
        "colab_type": "code",
        "colab": {
          "base_uri": "https://localhost:8080/",
          "height": 34
        },
        "outputId": "d36366b3-6e59-4530-e697-5aef50d28e3b"
      },
      "source": [
        "parse_number(enderecos)"
      ],
      "execution_count": 77,
      "outputs": [
        {
          "output_type": "display_data",
          "data": {
            "text/plain": [
              "[1] 851 367 198"
            ],
            "text/latex": "\\begin{enumerate*}\n\\item 851\n\\item 367\n\\item 198\n\\end{enumerate*}\n",
            "text/markdown": "1. 851\n2. 367\n3. 198\n\n\n",
            "text/html": [
              "<style>\n",
              ".list-inline {list-style: none; margin:0; padding: 0}\n",
              ".list-inline>li {display: inline-block}\n",
              ".list-inline>li:not(:last-child)::after {content: \"\\00b7\"; padding: 0 .5ex}\n",
              "</style>\n",
              "<ol class=list-inline><li>851</li><li>367</li><li>198</li></ol>\n"
            ]
          },
          "metadata": {
            "tags": []
          }
        }
      ]
    },
    {
      "cell_type": "code",
      "metadata": {
        "id": "SwQ6jLqnKRqQ",
        "colab_type": "code",
        "colab": {}
      },
      "source": [
        ""
      ],
      "execution_count": 0,
      "outputs": []
    },
    {
      "cell_type": "markdown",
      "metadata": {
        "id": "pRY89c-dHyPC",
        "colab_type": "text"
      },
      "source": [
        "Divida o vetor de endereços em duas partes: endereço e cidade. O resultado deve ser uma matriz."
      ]
    },
    {
      "cell_type": "code",
      "metadata": {
        "id": "e8MPIMUUHyXq",
        "colab_type": "code",
        "colab": {}
      },
      "source": [
        "a <-  enderecos %>% str_split(\",\")\n",
        "print (a)\n",
        "mat_end <- matrix(a, 6,6)\n",
        "mat_end"
      ],
      "execution_count": 0,
      "outputs": []
    },
    {
      "cell_type": "markdown",
      "metadata": {
        "id": "1nNzBOBhIAo4",
        "colab_type": "text"
      },
      "source": [
        "Normalize o vetor \"produtos\" removendo todos os espaços em branco desnecessários (início, meio e fim), capitalizando todas as letras."
      ]
    },
    {
      "cell_type": "code",
      "metadata": {
        "id": "jCLZSbriIXKh",
        "colab_type": "code",
        "colab": {
          "base_uri": "https://localhost:8080/",
          "height": 34
        },
        "outputId": "fb247251-0d67-43b4-be2d-7e40f0b6304e"
      },
      "source": [
        "produtos <- produtos %>% str_trim() %>% str_to_upper() \n",
        "produtos"
      ],
      "execution_count": 94,
      "outputs": [
        {
          "output_type": "display_data",
          "data": {
            "text/plain": [
              "[1] \"TV\"        \"NOTEBOOKS\" \"GPU\"       \"MOUSES\"    \"TECLADO\"  "
            ],
            "text/latex": "\\begin{enumerate*}\n\\item 'TV'\n\\item 'NOTEBOOKS'\n\\item 'GPU'\n\\item 'MOUSES'\n\\item 'TECLADO'\n\\end{enumerate*}\n",
            "text/markdown": "1. 'TV'\n2. 'NOTEBOOKS'\n3. 'GPU'\n4. 'MOUSES'\n5. 'TECLADO'\n\n\n",
            "text/html": [
              "<style>\n",
              ".list-inline {list-style: none; margin:0; padding: 0}\n",
              ".list-inline>li {display: inline-block}\n",
              ".list-inline>li:not(:last-child)::after {content: \"\\00b7\"; padding: 0 .5ex}\n",
              "</style>\n",
              "<ol class=list-inline><li>'TV'</li><li>'NOTEBOOKS'</li><li>'GPU'</li><li>'MOUSES'</li><li>'TECLADO'</li></ol>\n"
            ]
          },
          "metadata": {
            "tags": []
          }
        }
      ]
    }
  ]
}