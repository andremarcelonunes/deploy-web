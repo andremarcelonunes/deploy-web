{
  "nbformat": 4,
  "nbformat_minor": 0,
  "metadata": {
    "colab": {
      "name": "Fase2.ipynb",
      "provenance": [],
      "collapsed_sections": [],
      "include_colab_link": true
    },
    "kernelspec": {
      "name": "python3",
      "display_name": "Python 3"
    }
  },
  "cells": [
    {
      "cell_type": "markdown",
      "metadata": {
        "id": "view-in-github",
        "colab_type": "text"
      },
      "source": [
        "<a href=\"https://colab.research.google.com/github/andremcn/deploy-web/blob/master/Fase2.ipynb\" target=\"_parent\"><img src=\"https://colab.research.google.com/assets/colab-badge.svg\" alt=\"Open In Colab\"/></a>"
      ]
    },
    {
      "cell_type": "markdown",
      "metadata": {
        "id": "CYNAmoj4zSXl",
        "colab_type": "text"
      },
      "source": [
        "Crie um algoritmo em Python que peça 2 números e imprima o maior deles."
      ]
    },
    {
      "cell_type": "code",
      "metadata": {
        "id": "ViAfpy3GzPN-",
        "colab_type": "code",
        "outputId": "4455c7d1-cf18-43cb-e5b9-cd596e6bb761",
        "colab": {
          "base_uri": "https://localhost:8080/",
          "height": 68
        }
      },
      "source": [
        "a = int(input(\"Digite o primeiro numero\"))\n",
        "b =  int(input(\"Digite o segundo numero\"))\n",
        "\n",
        "if a > b:\n",
        "  print (a)\n",
        "elif a == b:\n",
        "  print (\"sao iguais\")\n",
        "else:\n",
        "  print (b)\n",
        "\n",
        "\n",
        "\n",
        "\n"
      ],
      "execution_count": 0,
      "outputs": [
        {
          "output_type": "stream",
          "text": [
            "Digite o primeiro numero3\n",
            "Digite o segundo numero1\n",
            "3\n"
          ],
          "name": "stdout"
        }
      ]
    },
    {
      "cell_type": "markdown",
      "metadata": {
        "id": "gdMis92izSmQ",
        "colab_type": "text"
      },
      "source": [
        "Crie um algoritmo em Python que peça um valor e mostre na tela se o valor é positivo ou negativo."
      ]
    },
    {
      "cell_type": "code",
      "metadata": {
        "id": "BFpWkdCBz_zh",
        "colab_type": "code",
        "outputId": "ee94bb75-8aa1-43b8-8f5d-7ec9eff273c1",
        "colab": {
          "base_uri": "https://localhost:8080/",
          "height": 51
        }
      },
      "source": [
        "a = int(input(\"Digite o primeiro numero\"))\n",
        "# b =  int(input(\"Digite o segundo numero\"))\n",
        "\n",
        "if a > 0:\n",
        "  print (\"positivo\")\n",
        "elif a == 0:\n",
        "  print (\"neutro\")\n",
        "else:\n",
        "  print (\"negativo\")"
      ],
      "execution_count": 0,
      "outputs": [
        {
          "output_type": "stream",
          "text": [
            "Digite o primeiro numero-6\n",
            "negativo\n"
          ],
          "name": "stdout"
        }
      ]
    },
    {
      "cell_type": "markdown",
      "metadata": {
        "id": "E_0l_Vx6zSo2",
        "colab_type": "text"
      },
      "source": [
        "Crie um algoritmo em Python que verifique se uma letra digitada é vogal ou consoante."
      ]
    },
    {
      "cell_type": "code",
      "metadata": {
        "id": "KwJf7XZS0AZW",
        "colab_type": "code",
        "outputId": "4981c6f6-39f1-4ec3-89fb-294346379a6a",
        "colab": {
          "base_uri": "https://localhost:8080/",
          "height": 51
        }
      },
      "source": [
        "a = input(\"Digite uma letra\")\n",
        "#b =  int(input(\"Digite o segundo numero\"))\n",
        "\n",
        "if a in [\"a\",\"e\",\"i\",\"o\",\"u\"]:\n",
        "  print (\"vogal\")\n",
        "else:\n",
        "  print (\"consoante\")"
      ],
      "execution_count": 0,
      "outputs": [
        {
          "output_type": "stream",
          "text": [
            "Digite uma letrae\n",
            "vogal\n"
          ],
          "name": "stdout"
        }
      ]
    },
    {
      "cell_type": "markdown",
      "metadata": {
        "id": "1i4VCiiczSrL",
        "colab_type": "text"
      },
      "source": [
        "Faça um programa para a leitura de duas notas parciais de um aluno. O programa deve calcular a média alcançada por aluno e apresentar:\n",
        "* \"Aprovado\", se a média alcançada for maior ou igual a sete;\n",
        "* \"Reprovado\", se a média for menor do que sete;\n",
        "* \"Aprovado com Distinção\", se a média for igual a 10."
      ]
    },
    {
      "cell_type": "code",
      "metadata": {
        "id": "yoW67hjA0BHy",
        "colab_type": "code",
        "outputId": "bf3b6ac2-9235-4c82-fb8d-ae34e3ea40db",
        "colab": {
          "base_uri": "https://localhost:8080/",
          "height": 68
        }
      },
      "source": [
        "a = float(input(\"Digite a primeira nota \"))\n",
        "b = float(input(\"Digite a segunda nota \"))\n",
        "\n",
        "media = (a+b)/2\n",
        "\n",
        "if media == 10:\n",
        "  print (\"Aprovado com Distinção\")\n",
        "elif a >= 7 and a < 10:\n",
        "  print (\"Aprovado\")\n",
        "else:\n",
        "  print (\"Reprovado\")"
      ],
      "execution_count": 0,
      "outputs": [
        {
          "output_type": "stream",
          "text": [
            "Digite a primeira nota 3\n",
            "Digite a segunda nota 7\n",
            "Reprovado\n"
          ],
          "name": "stdout"
        }
      ]
    },
    {
      "cell_type": "markdown",
      "metadata": {
        "id": "4ep7kezvzStO",
        "colab_type": "text"
      },
      "source": [
        "Crie um algoritmo em Python que leia três números e mostre o maior deles."
      ]
    },
    {
      "cell_type": "code",
      "metadata": {
        "id": "6K6IHWdr0Blt",
        "colab_type": "code",
        "outputId": "1eb06ded-4c1b-4658-bcc9-c9e14e60b095",
        "colab": {
          "base_uri": "https://localhost:8080/",
          "height": 68
        }
      },
      "source": [
        "valores = input (\"informe numeros separados por virgula  \")\n",
        "\n",
        "lista = valores.split(\",\")\n",
        "print (lista)\n",
        "max(lista, key=int)"
      ],
      "execution_count": 0,
      "outputs": [
        {
          "output_type": "stream",
          "text": [
            "informe numeros separados por virgula  1,2,3,4,5,6\n",
            "['1', '2', '3', '4', '5', '6']\n"
          ],
          "name": "stdout"
        },
        {
          "output_type": "execute_result",
          "data": {
            "text/plain": [
              "'6'"
            ]
          },
          "metadata": {
            "tags": []
          },
          "execution_count": 23
        }
      ]
    },
    {
      "cell_type": "markdown",
      "metadata": {
        "id": "u6__NaXqzeYg",
        "colab_type": "text"
      },
      "source": [
        "Crie um algoritmo em Python que leia três números e mostre o maior e o menor deles."
      ]
    },
    {
      "cell_type": "code",
      "metadata": {
        "id": "mm2L7g3x0Cfx",
        "colab_type": "code",
        "outputId": "ffbaf12b-1973-4667-cdfd-4e3e5c873cfe",
        "colab": {
          "base_uri": "https://localhost:8080/",
          "height": 85
        }
      },
      "source": [
        "valores = input (\"informe numeros separados por virgula  \")\n",
        "\n",
        "lista = valores.split(\",\")\n",
        "print (lista)\n",
        "print (f\" O maior numero é {max(lista, key=int)}\")\n",
        "print (f\" O menor numero é {min(lista, key=int)}\")"
      ],
      "execution_count": 0,
      "outputs": [
        {
          "output_type": "stream",
          "text": [
            "informe numeros separados por virgula  1,2,3,4,5,3,7\n",
            "['1', '2', '3', '4', '5', '3', '7']\n",
            " O maior numero é 7\n",
            " O menor numero é 1\n"
          ],
          "name": "stdout"
        }
      ]
    },
    {
      "cell_type": "markdown",
      "metadata": {
        "id": "lIlfG-ATzgOr",
        "colab_type": "text"
      },
      "source": [
        "Faça um programa que pergunte o preço de 5 produtos e informe qual produto você deve comprar, sabendo que a decisão é sempre pelo mais barato."
      ]
    },
    {
      "cell_type": "code",
      "metadata": {
        "id": "-y4pB6br0DD_",
        "colab_type": "code",
        "outputId": "835a98f3-73b0-447d-b099-8fd011460624",
        "colab": {
          "base_uri": "https://localhost:8080/",
          "height": 170
        }
      },
      "source": [
        "produtos = [\"produto1\", \"produto2\", \"produto3\", \"produto4\", \"produto5\"]\n",
        "dicprod={}\n",
        "\n",
        "for a in produtos:\n",
        "  preco = int(input(f\"digite o preco para o produto {a} \"))\n",
        "  dicprod[a] = preco\n",
        "  \n",
        "key_dic = list(dicprod.keys())\n",
        "valores_dic = list(dicprod.values())\n",
        "print (key_dic)\n",
        "print (valores_dic)\n",
        "\n",
        "menor = min(valores_dic, key=int)\n",
        "indice = valores_dic.index(menor)\n",
        "print (indice)\n",
        "print (f\"Voce deve comprar o produto {key_dic[indice]}\")"
      ],
      "execution_count": 0,
      "outputs": [
        {
          "output_type": "stream",
          "text": [
            "digite o preco para o produto produto1 30\n",
            "digite o preco para o produto produto2 20\n",
            "digite o preco para o produto produto3 3\n",
            "digite o preco para o produto produto4 4\n",
            "digite o preco para o produto produto5 1\n",
            "['produto1', 'produto2', 'produto3', 'produto4', 'produto5']\n",
            "[30, 20, 3, 4, 1]\n",
            "4\n",
            "Voce deve comprar o produto produto5\n"
          ],
          "name": "stdout"
        }
      ]
    },
    {
      "cell_type": "markdown",
      "metadata": {
        "id": "Vj4OXsJQziu_",
        "colab_type": "text"
      },
      "source": [
        "Crie um algoritmo em Python que leia três números e mostre-os em ordem decrescente."
      ]
    },
    {
      "cell_type": "code",
      "metadata": {
        "id": "RmApGpg30D00",
        "colab_type": "code",
        "outputId": "2ddfe190-3ae0-4b1d-bf6b-4ba42edd0063",
        "colab": {
          "base_uri": "https://localhost:8080/",
          "height": 51
        }
      },
      "source": [
        "valores = input (\"informe numeros separados por virgula  \")\n",
        "lista = valores.split(\",\")\n",
        "lista_invertida = []\n",
        "for a in reversed(lista):\n",
        "   lista_invertida.append(a)\n",
        "\n",
        "\n",
        "print(f\"Os números, em ordem crescente são: {lista_invertida}\")\n"
      ],
      "execution_count": 0,
      "outputs": [
        {
          "output_type": "stream",
          "text": [
            "informe numeros separados por virgula  1,4,6,7\n",
            "Os números, em ordem crescente são: ['7', '6', '4', '1']\n"
          ],
          "name": "stdout"
        }
      ]
    },
    {
      "cell_type": "markdown",
      "metadata": {
        "id": "e7id8Ewgzlow",
        "colab_type": "text"
      },
      "source": [
        "As Organizações Mendéz resolveram dar um aumento de salário aos seus colaboradores e lhe contraram para desenvolver o programa que calculará os reajustes em Python. Faça um programa que receba o salário de um colaborador e o reajuste segundo o seguinte critério, baseado no salário atual:\n",
        "\n",
        "* salários entre 680,00 e 800,00 : aumento de 15%<br>\n",
        "* salários entre 800,00 e 2500,00 : aumento de 10%<br>\n",
        "* salários de 2500,00 em diante : aumento de 5% após o aumento ser realizado.\n",
        "\n",
        "Informe na tela:\n",
        "* o salário antes do reajuste;\n",
        "* o percentual de aumento aplicado;\n",
        "* o valor do aumento;\n",
        "* o novo salário, após o aumento."
      ]
    },
    {
      "cell_type": "code",
      "metadata": {
        "id": "Kl0ainsv0Eif",
        "colab_type": "code",
        "outputId": "ca94630b-11f1-487b-874e-32a8c5605077",
        "colab": {
          "base_uri": "https://localhost:8080/",
          "height": 527
        }
      },
      "source": [
        "funcionarios = [\"Fulano1\", \"Fulano2\", \"Fulano3\", \"Fulano4\", \"Fulano5\"]\n",
        "dicfunc={}\n",
        "\n",
        "for a in funcionarios:\n",
        "  \n",
        "\n",
        "  salario = float(input(f\"Digite o salario de  {a} \"))\n",
        "\n",
        "  if salario <= 680.00:\n",
        "    print (\"Salario muito baixo!!!!\")\n",
        "    continue\n",
        "  \n",
        "  if salario >= 680.00 and salario < 800:\n",
        "    percent = 1.15\n",
        "    new_sal = salario * 1.15\n",
        "    val_aumento = salario * 15 / 100\n",
        "  elif salario >= 800.00 and salario < 2500.00:\n",
        "    percent = 1.10\n",
        "    new_sal = salario * 1.10\n",
        "    val_aumento = salario * 10 / 100\n",
        "  else:\n",
        "    percent = 1.05\n",
        "    new_sal = salario * 1.05\n",
        "    val_aumento = salario * 5 / 100\n",
        "\n",
        "\n",
        "\n",
        "  dicfunc[a] = [salario,percent,val_aumento,new_sal]\n",
        "   \n",
        "\n",
        "#print(dicfunc)\n",
        "\n",
        "\n",
        "\n",
        "key_dic = list(dicfunc.keys())\n",
        "\n",
        "for a in  key_dic:\n",
        "  print (f\"************* O funcionario {a} :\")\n",
        "  info_func = dicfunc[a]\n",
        "  print (f\"Salario atual {info_func[0]} \")\n",
        "  print (f\"Percentual de aumento  {info_func[1]} %\")\n",
        "  print (f\"Valor do aumento {info_func[2]}\")\n",
        "  print (f\"Novo Salario {info_func[3]}\")\n",
        "\n",
        "\n",
        "\n",
        "#valores_dic = list(dicfunc.values())\n",
        "#print (key_dic)\n",
        "#print (valores_dic)\n",
        "#\n",
        "# Atualização imediata\n",
        "#menor = min(valores_dic, key=int)\n",
        "#indice = valores_dic.index(menor)\n",
        "#print (indice)\n",
        "#print (f\"Voce deve comprar o produto {key_dic[indice]}\")"
      ],
      "execution_count": 13,
      "outputs": [
        {
          "output_type": "stream",
          "text": [
            "Digite o salario de  Fulano1 750\n",
            "Digite o salario de  Fulano2 960\n",
            "Digite o salario de  Fulano3 1700\n",
            "Digite o salario de  Fulano4 8000\n",
            "Digite o salario de  Fulano5 9000\n",
            "************* O funcionario Fulano1 :\n",
            "Salario atual 750.0 \n",
            "Percentual de aumento  1.15 %\n",
            "Valor do aumento 112.5\n",
            "Novo Salario 862.4999999999999\n",
            "************* O funcionario Fulano2 :\n",
            "Salario atual 960.0 \n",
            "Percentual de aumento  1.1 %\n",
            "Valor do aumento 96.0\n",
            "Novo Salario 1056.0\n",
            "************* O funcionario Fulano3 :\n",
            "Salario atual 1700.0 \n",
            "Percentual de aumento  1.1 %\n",
            "Valor do aumento 170.0\n",
            "Novo Salario 1870.0000000000002\n",
            "************* O funcionario Fulano4 :\n",
            "Salario atual 8000.0 \n",
            "Percentual de aumento  1.05 %\n",
            "Valor do aumento 400.0\n",
            "Novo Salario 8400.0\n",
            "************* O funcionario Fulano5 :\n",
            "Salario atual 9000.0 \n",
            "Percentual de aumento  1.05 %\n",
            "Valor do aumento 450.0\n",
            "Novo Salario 9450.0\n"
          ],
          "name": "stdout"
        }
      ]
    }
  ]
}