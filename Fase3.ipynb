{
  "nbformat": 4,
  "nbformat_minor": 0,
  "metadata": {
    "colab": {
      "name": "Fase3.ipynb",
      "provenance": [],
      "include_colab_link": true
    },
    "kernelspec": {
      "name": "python3",
      "display_name": "Python 3"
    }
  },
  "cells": [
    {
      "cell_type": "markdown",
      "metadata": {
        "id": "view-in-github",
        "colab_type": "text"
      },
      "source": [
        "<a href=\"https://colab.research.google.com/github/andremcn/deploy-web/blob/master/Fase3.ipynb\" target=\"_parent\"><img src=\"https://colab.research.google.com/assets/colab-badge.svg\" alt=\"Open In Colab\"/></a>"
      ]
    },
    {
      "cell_type": "markdown",
      "metadata": {
        "id": "CYNAmoj4zSXl",
        "colab_type": "text"
      },
      "source": [
        "Crie um algoritmo em Python que peça uma nota, entre zero e 100. Mostre uma mensagem caso o valor seja inválido e continue pedindo até que o usuário informe um valor válido."
      ]
    },
    {
      "cell_type": "code",
      "metadata": {
        "id": "ViAfpy3GzPN-",
        "colab_type": "code",
        "outputId": "340026f7-070d-4fbc-ec95-99215ebff5b0",
        "colab": {
          "base_uri": "https://localhost:8080/",
          "height": 102
        }
      },
      "source": [
        "while True:\n",
        "  try:\n",
        "    nota = int(input(\"Digite um  nota de 0 a 100 \"))\n",
        "    if nota >= 0 and nota <= 100:\n",
        "      break\n",
        "  except ValueError: \n",
        "    print(\"Erro de tipo! Tente novamente\")"
      ],
      "execution_count": 0,
      "outputs": [
        {
          "output_type": "stream",
          "text": [
            "Digite um  nota de 0 a 100 a\n",
            "Erro de tipo! Tente novamente\n",
            "Digite um  nota de 0 a 100 cacete\n",
            "Erro de tipo! Tente novamente\n",
            "Digite um  nota de 0 a 100 2\n"
          ],
          "name": "stdout"
        }
      ]
    },
    {
      "cell_type": "markdown",
      "metadata": {
        "id": "gdMis92izSmQ",
        "colab_type": "text"
      },
      "source": [
        "Crie um algoritmo em Python que leia um nome de usuário e a sua senha e não aceite a senha igual ao nome do usuário, mostrando uma mensagem de erro e voltando a pedir as informações.<br>"
      ]
    },
    {
      "cell_type": "code",
      "metadata": {
        "id": "BFpWkdCBz_zh",
        "colab_type": "code",
        "outputId": "2d0a9b59-6df4-45ad-e07b-97d12ad05a0b",
        "colab": {
          "base_uri": "https://localhost:8080/",
          "height": 102
        }
      },
      "source": [
        "while True:\n",
        "  user = input(\"Digite seu user \")\n",
        "  senha = input(\"Digite sua senha \")\n",
        "  if user == senha:\n",
        "    print (\"senha não pode ser igual a user\")\n",
        "    continue\n",
        "  else:\n",
        "    break\n",
        "\n"
      ],
      "execution_count": 0,
      "outputs": [
        {
          "output_type": "stream",
          "text": [
            "Digite seu user eu\n",
            "Digite sua senha eu\n",
            "senha não pode ser igual a user\n",
            "Digite seu user eu\n",
            "Digite sua senha tu\n"
          ],
          "name": "stdout"
        }
      ]
    },
    {
      "cell_type": "markdown",
      "metadata": {
        "id": "E_0l_Vx6zSo2",
        "colab_type": "text"
      },
      "source": [
        "Crie um algoritmo em Python que leia e valide as seguintes informações:\n",
        "* Nome: maior que 3 caracteres;\n",
        "* Idade: entre 0 e 150;\n",
        "* Salário: maior que zero;\n",
        "* Sexo: 'f' ou 'm';\n",
        "* Estado Civil: 's', 'c', 'v', 'd';"
      ]
    },
    {
      "cell_type": "code",
      "metadata": {
        "id": "KwJf7XZS0AZW",
        "colab_type": "code",
        "outputId": "2880d1b5-1bb0-463d-edb8-0b5b05c35c48",
        "colab": {
          "base_uri": "https://localhost:8080/",
          "height": 306
        }
      },
      "source": [
        "while True:\n",
        "  user = input(\"Digite seu nome \")\n",
        "  if len(user) <= 3:\n",
        "    print (\"nome tem que ser maior que 3 caracteres\")\n",
        "    continue\n",
        "  else:\n",
        "    while True:\n",
        "      idade = int(input(\"Didite sua idade\"))\n",
        "      if idade < 0 or idade > 150:\n",
        "        print (\"Idade errada\")\n",
        "        continue\n",
        "      else:\n",
        "        while True:\n",
        "          salario = float(input(\"informe seu salario\"))\n",
        "          if salario < 0:\n",
        "            print (\"salario invalido\")\n",
        "            continue\n",
        "          else:\n",
        "            while True:\n",
        "               sexo = input(\"informe seu sexo (f,m)\")\n",
        "               if sexo not in ['f','m']:\n",
        "                 print (\"sexo invalido\")\n",
        "                 continue\n",
        "               else:\n",
        "                 while True:\n",
        "                   estado = input(\"informe seu estado civil ('s', 'c', 'v', 'd')\")\n",
        "                   if estado not in [ 's', 'c', 'v', 'd']:\n",
        "                     print (\"Estado civil invalido\")\n",
        "                     continue\n",
        "                   break\n",
        "               break \n",
        "            break\n",
        "        break \n",
        "      break\n",
        "    break\n",
        "\n",
        "\n",
        "  #senha = input(\"Digite sua senha \")\n",
        "  #if user == senha:\n",
        "  #  print (\"senha não pode ser igual a user\")\n",
        "  #  continue\n",
        "  #else:\n",
        "  #  break\n"
      ],
      "execution_count": 0,
      "outputs": [
        {
          "output_type": "stream",
          "text": [
            "Digite seu nome a\n",
            "nome tem que ser maior que 3 caracteres\n",
            "Digite seu nome b\n",
            "nome tem que ser maior que 3 caracteres\n",
            "Digite seu nome celso\n",
            "Didite sua idade500\n",
            "Idade errada\n",
            "Didite sua idade100\n",
            "informe seu salario-3\n",
            "salario invalido\n",
            "informe seu salario400\n",
            "informe seu sexo (f,m)c\n",
            "sexo invalido\n",
            "informe seu sexo (f,m)f\n",
            "informe seu estado civil ('s', 'c', 'v', 'd')t\n",
            "Estado civil invalido\n",
            "informe seu estado civil ('s', 'c', 'v', 'd')c\n"
          ],
          "name": "stdout"
        }
      ]
    },
    {
      "cell_type": "markdown",
      "metadata": {
        "id": "1i4VCiiczSrL",
        "colab_type": "text"
      },
      "source": [
        "Supondo que a população de um país A seja da ordem de 80000 habitantes com uma taxa anual de crescimento de 3% e que a população de B seja 200000 habitantes com uma taxa de crescimento de 1.5%.<br><br> Crie um algoritmo em Python que calcule e escreva o número de anos necessários para que a população do país A ultrapasse ou iguale a população do país B, mantidas as taxas de crescimento."
      ]
    },
    {
      "cell_type": "code",
      "metadata": {
        "id": "yoW67hjA0BHy",
        "colab_type": "code",
        "outputId": "95e0c16a-48e7-4710-c401-48ebef2facf6",
        "colab": {
          "base_uri": "https://localhost:8080/",
          "height": 34
        }
      },
      "source": [
        "popA = 80000\n",
        "popB = 200000\n",
        "CountAno = 0\n",
        "while popA <= popB:\n",
        "  popA =  popA * 1.003\n",
        "  popB =  popB * 1.0015\n",
        "  CountAno += 1\n",
        "\n",
        "print (f\"{CountAno} anos\")\n",
        "\n",
        "\n",
        "\n",
        "\n",
        "\n"
      ],
      "execution_count": 0,
      "outputs": [
        {
          "output_type": "stream",
          "text": [
            "613 anos\n"
          ],
          "name": "stdout"
        }
      ]
    },
    {
      "cell_type": "markdown",
      "metadata": {
        "id": "4ep7kezvzStO",
        "colab_type": "text"
      },
      "source": [
        "Desenvolva um gerador de tabuada, capaz de gerar a tabuada de qualquer número inteiro entre 1 a 10. O usuário deve informar de qual numero ele deseja ver a tabuada. A saída deve ser conforme o exemplo abaixo:\n",
        "Tabuada de 5:<br>\n",
        "5 X 1 = 5<br>\n",
        "5 X 2 = 10<br>\n",
        "...<br>\n",
        "5 X 10 = 50<br>"
      ]
    },
    {
      "cell_type": "code",
      "metadata": {
        "id": "6K6IHWdr0Blt",
        "colab_type": "code",
        "outputId": "e6e80250-abc9-436e-a0db-aa849264e49a",
        "colab": {
          "base_uri": "https://localhost:8080/",
          "height": 204
        }
      },
      "source": [
        "numero = int(input(\"Insira o numero\"))\n",
        "\n",
        "for x in range(1,11):\n",
        "  print(f\"{numero} x {x} = {numero * x}\")\n",
        "\n",
        "\n",
        "\n",
        "\n"
      ],
      "execution_count": 0,
      "outputs": [
        {
          "output_type": "stream",
          "text": [
            "Insira o numero3\n",
            "3 x 1 = 3\n",
            "3 x 2 = 6\n",
            "3 x 3 = 9\n",
            "3 x 4 = 12\n",
            "3 x 5 = 15\n",
            "3 x 6 = 18\n",
            "3 x 7 = 21\n",
            "3 x 8 = 24\n",
            "3 x 9 = 27\n",
            "3 x 10 = 30\n"
          ],
          "name": "stdout"
        }
      ]
    },
    {
      "cell_type": "markdown",
      "metadata": {
        "id": "u6__NaXqzeYg",
        "colab_type": "text"
      },
      "source": [
        "Crie um algoritmo em Python que leia três números e mostre o maior e o menor deles."
      ]
    },
    {
      "cell_type": "code",
      "metadata": {
        "id": "mm2L7g3x0Cfx",
        "colab_type": "code",
        "outputId": "9a718a98-23d6-485a-ec69-1ec5cb683b52",
        "colab": {
          "base_uri": "https://localhost:8080/",
          "height": 85
        }
      },
      "source": [
        "valores = input (\"informe numeros separados por virgula  \")\n",
        "lista = valores.split(\",\")\n",
        "print (lista)\n",
        "print (f\" O maior numero é {max(lista, key=int)}\")\n",
        "print (f\" O menor numero é {min(lista, key=int)}\")"
      ],
      "execution_count": 23,
      "outputs": [
        {
          "output_type": "stream",
          "text": [
            "informe numeros separados por virgula  1,2,3\n",
            "['1', '2', '3']\n",
            " O maior numero é 3\n",
            " O menor numero é 1\n"
          ],
          "name": "stdout"
        }
      ]
    },
    {
      "cell_type": "markdown",
      "metadata": {
        "id": "lIlfG-ATzgOr",
        "colab_type": "text"
      },
      "source": [
        "Crie um algoritmo em Python que peça 2 números, base e expoente, calcule e mostre o primeiro número elevado ao segundo número. Não utilize a função de potência da linguagem."
      ]
    },
    {
      "cell_type": "code",
      "metadata": {
        "id": "-y4pB6br0DD_",
        "colab_type": "code",
        "colab": {
          "base_uri": "https://localhost:8080/",
          "height": 119
        },
        "outputId": "29fd65b9-7fb6-4117-d953-bb5aa72b72d6"
      },
      "source": [
        "base = float(input(\"Digite a base\"))\n",
        "expo = int(input(\"digite expente\"))\n",
        "resultado = 1\n",
        "\n",
        "for x in range(expo):\n",
        "  resultado *= base \n",
        "  print (x) \n",
        "\n",
        "print (resultado)\n",
        "\n"
      ],
      "execution_count": 42,
      "outputs": [
        {
          "output_type": "stream",
          "text": [
            "Digite a base2\n",
            "digite expente3\n",
            "0\n",
            "1\n",
            "2\n",
            "8.0\n"
          ],
          "name": "stdout"
        }
      ]
    },
    {
      "cell_type": "markdown",
      "metadata": {
        "id": "Vj4OXsJQziu_",
        "colab_type": "text"
      },
      "source": [
        "Crie um algoritmo em Python que peça 10 números inteiros, calcule e mostre a quantidade de números pares e a quantidade de números impares."
      ]
    },
    {
      "cell_type": "code",
      "metadata": {
        "id": "RmApGpg30D00",
        "colab_type": "code",
        "colab": {
          "base_uri": "https://localhost:8080/",
          "height": 85
        },
        "outputId": "d9476c6f-c0ee-4782-8807-64c2f5eb8028"
      },
      "source": [
        "valores = input (\"informe 10 numeros separados por virgula  \")\n",
        "lista = valores.split(\",\")\n",
        "print (lista)\n",
        "partotal = 0\n",
        "impatotal = 0 \n",
        "\n",
        "for x in range(len(lista)):\n",
        "  if int(lista[x])%2 == 0:\n",
        "    partotal += 1\n",
        "  else:\n",
        "    impatotal +=1\n",
        "\n",
        "print (f\"total de par {partotal} \")\n",
        "print (f\"totla de impar {impatotal} \")\n"
      ],
      "execution_count": 47,
      "outputs": [
        {
          "output_type": "stream",
          "text": [
            "informe 10 numeros separados por virgula  3,9,2,4,7,11\n",
            "['3', '9', '2', '4', '7', '11']\n",
            "total de par 2 \n",
            "totla de impar 4 \n"
          ],
          "name": "stdout"
        }
      ]
    },
    {
      "cell_type": "markdown",
      "metadata": {
        "id": "e7id8Ewgzlow",
        "colab_type": "text"
      },
      "source": [
        "Um funcionário de uma empresa recebe aumento salarial anualmente: Sabe-se que:\n",
        "Esse funcionário foi contratado em 1995, com salário inicial de R$ 1.000,00;\n",
        "Em 1996 recebeu aumento de 1,5% sobre seu salário inicial;\n",
        "A partir de 1997 (inclusive), os aumentos salariais sempre correspondem ao dobro do percentual do ano anterior. Crie um algoritmo em Python que determine o salário atual desse funcionário. Após concluir isto, altere o programa permitindo que o usuário digite o salário inicial do funcionário."
      ]
    },
    {
      "cell_type": "code",
      "metadata": {
        "id": "Kl0ainsv0Eif",
        "colab_type": "code",
        "colab": {
          "base_uri": "https://localhost:8080/",
          "height": 51
        },
        "outputId": "89c1e074-3337-48e2-d3a8-1827b97783f2"
      },
      "source": [
        "\n",
        "salario = 1000\n",
        "percent_aumento = 0.005\n",
        "ano_inicial = 1997\n",
        "ano_final =2020\n",
        "aumento = salario * percent_aumento\n",
        "countano = 1\n",
        "salario = salario + aumento\n",
        "\n",
        "while ano_inicial <= ano_final:\n",
        "  salario = salario + ( 2 * aumento)\n",
        "  ano_inicial += 1\n",
        "  countano += 1\n",
        "\n",
        "print (salario)\n",
        "print (countano)\n",
        "\n",
        "\n",
        "\n"
      ],
      "execution_count": 59,
      "outputs": [
        {
          "output_type": "stream",
          "text": [
            "1245.0\n",
            "25\n"
          ],
          "name": "stdout"
        }
      ]
    },
    {
      "cell_type": "markdown",
      "metadata": {
        "id": "5u9i4kzm-itX",
        "colab_type": "text"
      },
      "source": [
        "Crie um algoritmo em Python com uma função que necessite de um argumento. A função retorna o valor de caractere ‘P’, se seu argumento for positivo, e ‘N’, se seu argumento for zero ou negativo."
      ]
    },
    {
      "cell_type": "code",
      "metadata": {
        "id": "WNt8CLa2-rGt",
        "colab_type": "code",
        "colab": {
          "base_uri": "https://localhost:8080/",
          "height": 34
        },
        "outputId": "bc493d74-0344-4a95-ec97-1a4802302ae1"
      },
      "source": [
        "def CheckN(a):\n",
        "  if a > 0:\n",
        "    return \"P\"\n",
        "  else:\n",
        "    return \"N\"\n",
        "\n",
        "CheckN(-2)\n"
      ],
      "execution_count": 2,
      "outputs": [
        {
          "output_type": "execute_result",
          "data": {
            "text/plain": [
              "'N'"
            ]
          },
          "metadata": {
            "tags": []
          },
          "execution_count": 2
        }
      ]
    },
    {
      "cell_type": "markdown",
      "metadata": {
        "id": "CHiYMSOJ-rSY",
        "colab_type": "text"
      },
      "source": [
        "Construa uma função que receba uma data no formato DD/MM/AAAA e devolva uma string no formato D de mesPorExtenso de AAAA. Opcionalmente, valide a data e retorne NULL caso a data seja inválida."
      ]
    },
    {
      "cell_type": "code",
      "metadata": {
        "id": "6Ukxx6gQ-r4-",
        "colab_type": "code",
        "colab": {
          "base_uri": "https://localhost:8080/",
          "height": 34
        },
        "outputId": "4151553e-a082-4c2c-84a7-9324f1ba290f"
      },
      "source": [
        "def DataExt(a):\n",
        "  splits = a.split(\"/\")\n",
        "  Meses=('janeiro','fevereiro','março','abril','maio','junho','julho','agosto','setembro','outubro','novembro','dezembro')\n",
        "  mes = int(splits[1])\n",
        "  print (f\"{splits[0]} de {Meses[mes-1]} de {splits[2]}\")\n",
        "\n",
        "DataExt(\"12/03/2020\")"
      ],
      "execution_count": 11,
      "outputs": [
        {
          "output_type": "stream",
          "text": [
            "12 de março de 2020\n"
          ],
          "name": "stdout"
        }
      ]
    },
    {
      "cell_type": "markdown",
      "metadata": {
        "id": "AzUYbZ8A-zj7",
        "colab_type": "text"
      },
      "source": [
        "Crie uma classe que modele uma pessoa:<br>\n",
        "\n",
        "Atributos: nome, idade, peso e altura<br>\n",
        "Métodos: Envelhercer, engordar, emagrecer, crescer.<br>\n",
        "<br>Obs: Por padrão, a cada ano que nossa pessoa envelhece, sendo a idade dela menor que 21 anos, ela deve crescer 0,5 cm."
      ]
    },
    {
      "cell_type": "code",
      "metadata": {
        "id": "qobhV-FC-zRS",
        "colab_type": "code",
        "colab": {
          "base_uri": "https://localhost:8080/",
          "height": 34
        },
        "outputId": "41fa6ea2-2fb2-4402-b578-4105a8077176"
      },
      "source": [
        "class Pessoa:\n",
        "  def __init__(self,nome,idade,peso,altura):\n",
        "    self.nome = nome\n",
        "    self.idade = idade\n",
        "    self.peso = peso\n",
        "    self.altura = altura\n",
        "\n",
        "  def Envelhecer(self, ano):\n",
        "    if self.idade < 21:\n",
        "      self.altura += 0.5\n",
        "      self.idade += ano\n",
        "    else:\n",
        "      self.idade += ano\n",
        "   \n",
        "  def Engordar(self, peso_ganho):\n",
        "    self.peso += peso_ganho\n",
        "  \n",
        "  def Emagrecer(self, peso_perdido):\n",
        "    self.peso += peso_perdido\n",
        "  \n",
        "  def Crescer(self, altura_ganha):\n",
        "    self.altura += altura_ganha\n",
        "\n",
        "\n",
        "b1 = Pessoa(\"Weber\", 19, 70, 170)\n",
        "b1.Envelhecer(1)\n",
        "\n",
        "print(b1.nome, b1.idade, b1.altura, b1.peso)"
      ],
      "execution_count": 20,
      "outputs": [
        {
          "output_type": "stream",
          "text": [
            "Weber 20 170.5 70\n"
          ],
          "name": "stdout"
        }
      ]
    }
  ]
}